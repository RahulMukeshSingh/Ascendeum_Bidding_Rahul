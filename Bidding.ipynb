{
 "cells": [
  {
   "cell_type": "markdown",
   "id": "50bf6c02",
   "metadata": {},
   "source": [
    "Q) The above data is data for prebid auctions. There are bidders who receive requests for placing ads, they respond to these requests with a bid and the highest bid wins the auction. Analyse the dataset to answer which bidder has the highest win rate (wins / total_bid)."
   ]
  },
  {
   "cell_type": "markdown",
   "id": "24bdfd21",
   "metadata": {},
   "source": [
    "## Import Libraries"
   ]
  },
  {
   "cell_type": "code",
   "execution_count": 1,
   "id": "89839e63",
   "metadata": {},
   "outputs": [],
   "source": [
    "import pandas as pd\n",
    "import numpy as np"
   ]
  },
  {
   "cell_type": "markdown",
   "id": "37df2dea",
   "metadata": {},
   "source": [
    "## Read CSV"
   ]
  },
  {
   "cell_type": "code",
   "execution_count": 2,
   "id": "65f29789",
   "metadata": {},
   "outputs": [
    {
     "data": {
      "text/html": [
       "<div>\n",
       "<style scoped>\n",
       "    .dataframe tbody tr th:only-of-type {\n",
       "        vertical-align: middle;\n",
       "    }\n",
       "\n",
       "    .dataframe tbody tr th {\n",
       "        vertical-align: top;\n",
       "    }\n",
       "\n",
       "    .dataframe thead th {\n",
       "        text-align: right;\n",
       "    }\n",
       "</style>\n",
       "<table border=\"1\" class=\"dataframe\">\n",
       "  <thead>\n",
       "    <tr style=\"text-align: right;\">\n",
       "      <th></th>\n",
       "      <th>Unnamed: 0</th>\n",
       "      <th>date_hour</th>\n",
       "      <th>client</th>\n",
       "      <th>device_type</th>\n",
       "      <th>time_zone</th>\n",
       "      <th>os_name</th>\n",
       "      <th>browser_name</th>\n",
       "      <th>ad_unit</th>\n",
       "      <th>size</th>\n",
       "      <th>bidder</th>\n",
       "      <th>...</th>\n",
       "      <th>sum_time_to_respond</th>\n",
       "      <th>median</th>\n",
       "      <th>min_bid</th>\n",
       "      <th>max_bid</th>\n",
       "      <th>avg_bid</th>\n",
       "      <th>sum_2nd_highest_bid</th>\n",
       "      <th>sum_prebid_winning_bid</th>\n",
       "      <th>sum_winning_bid</th>\n",
       "      <th>sum_nobid</th>\n",
       "      <th>sum_timeout</th>\n",
       "    </tr>\n",
       "  </thead>\n",
       "  <tbody>\n",
       "    <tr>\n",
       "      <th>0</th>\n",
       "      <td>0</td>\n",
       "      <td>2021-04-11T01:00:00</td>\n",
       "      <td>asc126828</td>\n",
       "      <td>Desktop</td>\n",
       "      <td>America/Chicago</td>\n",
       "      <td>Linux</td>\n",
       "      <td>Chrome-85.04183133</td>\n",
       "      <td>div-gpt-ad-BT-D-Footers</td>\n",
       "      <td>728x90</td>\n",
       "      <td>onemobile</td>\n",
       "      <td>...</td>\n",
       "      <td>6614.0</td>\n",
       "      <td>NaN</td>\n",
       "      <td>0.58520</td>\n",
       "      <td>0.58520</td>\n",
       "      <td>0.585200</td>\n",
       "      <td>0.5852</td>\n",
       "      <td>0.5852</td>\n",
       "      <td>NaN</td>\n",
       "      <td>NaN</td>\n",
       "      <td>NaN</td>\n",
       "    </tr>\n",
       "    <tr>\n",
       "      <th>1</th>\n",
       "      <td>1</td>\n",
       "      <td>2021-04-11T01:00:00</td>\n",
       "      <td>asc126828</td>\n",
       "      <td>Desktop</td>\n",
       "      <td>America/Chicago</td>\n",
       "      <td>Linux</td>\n",
       "      <td>Chrome-85.04183133</td>\n",
       "      <td>div-gpt-ad-BT-D-Footers</td>\n",
       "      <td>728x90</td>\n",
       "      <td>rhythmone</td>\n",
       "      <td>...</td>\n",
       "      <td>5171.0</td>\n",
       "      <td>NaN</td>\n",
       "      <td>0.33945</td>\n",
       "      <td>0.34875</td>\n",
       "      <td>0.344100</td>\n",
       "      <td>NaN</td>\n",
       "      <td>NaN</td>\n",
       "      <td>NaN</td>\n",
       "      <td>NaN</td>\n",
       "      <td>NaN</td>\n",
       "    </tr>\n",
       "    <tr>\n",
       "      <th>2</th>\n",
       "      <td>2</td>\n",
       "      <td>2021-04-11T01:00:00</td>\n",
       "      <td>asc126828</td>\n",
       "      <td>Desktop</td>\n",
       "      <td>America/Chicago</td>\n",
       "      <td>Linux</td>\n",
       "      <td>Chrome-85.04183133</td>\n",
       "      <td>div-gpt-ad-BT-D-InLine-1</td>\n",
       "      <td>300x250</td>\n",
       "      <td>undertone</td>\n",
       "      <td>...</td>\n",
       "      <td>1523.0</td>\n",
       "      <td>NaN</td>\n",
       "      <td>0.96000</td>\n",
       "      <td>0.96000</td>\n",
       "      <td>0.960000</td>\n",
       "      <td>NaN</td>\n",
       "      <td>NaN</td>\n",
       "      <td>NaN</td>\n",
       "      <td>NaN</td>\n",
       "      <td>NaN</td>\n",
       "    </tr>\n",
       "    <tr>\n",
       "      <th>3</th>\n",
       "      <td>3</td>\n",
       "      <td>2021-04-11T01:00:00</td>\n",
       "      <td>asc126828</td>\n",
       "      <td>Desktop</td>\n",
       "      <td>America/Chicago</td>\n",
       "      <td>Linux</td>\n",
       "      <td>Chrome-85.04183133</td>\n",
       "      <td>div-gpt-ad-BT-D-O-300x250-1</td>\n",
       "      <td>300x250</td>\n",
       "      <td></td>\n",
       "      <td>...</td>\n",
       "      <td>NaN</td>\n",
       "      <td>NaN</td>\n",
       "      <td>NaN</td>\n",
       "      <td>NaN</td>\n",
       "      <td>NaN</td>\n",
       "      <td>NaN</td>\n",
       "      <td>NaN</td>\n",
       "      <td>NaN</td>\n",
       "      <td>NaN</td>\n",
       "      <td>NaN</td>\n",
       "    </tr>\n",
       "    <tr>\n",
       "      <th>4</th>\n",
       "      <td>4</td>\n",
       "      <td>2021-04-11T01:00:00</td>\n",
       "      <td>asc126828</td>\n",
       "      <td>Desktop</td>\n",
       "      <td>America/Chicago</td>\n",
       "      <td>Linux</td>\n",
       "      <td>Chrome-85.04183133</td>\n",
       "      <td>div-gpt-ad-BT-D-O-300x250-1</td>\n",
       "      <td>300x250</td>\n",
       "      <td>rhythmone</td>\n",
       "      <td>...</td>\n",
       "      <td>3570.0</td>\n",
       "      <td>0.34875</td>\n",
       "      <td>0.34410</td>\n",
       "      <td>0.34875</td>\n",
       "      <td>0.346425</td>\n",
       "      <td>NaN</td>\n",
       "      <td>NaN</td>\n",
       "      <td>NaN</td>\n",
       "      <td>NaN</td>\n",
       "      <td>NaN</td>\n",
       "    </tr>\n",
       "  </tbody>\n",
       "</table>\n",
       "<p>5 rows × 27 columns</p>\n",
       "</div>"
      ],
      "text/plain": [
       "   Unnamed: 0            date_hour     client device_type        time_zone  \\\n",
       "0           0  2021-04-11T01:00:00  asc126828     Desktop  America/Chicago   \n",
       "1           1  2021-04-11T01:00:00  asc126828     Desktop  America/Chicago   \n",
       "2           2  2021-04-11T01:00:00  asc126828     Desktop  America/Chicago   \n",
       "3           3  2021-04-11T01:00:00  asc126828     Desktop  America/Chicago   \n",
       "4           4  2021-04-11T01:00:00  asc126828     Desktop  America/Chicago   \n",
       "\n",
       "  os_name        browser_name                      ad_unit     size  \\\n",
       "0   Linux  Chrome-85.04183133      div-gpt-ad-BT-D-Footers   728x90   \n",
       "1   Linux  Chrome-85.04183133      div-gpt-ad-BT-D-Footers   728x90   \n",
       "2   Linux  Chrome-85.04183133     div-gpt-ad-BT-D-InLine-1  300x250   \n",
       "3   Linux  Chrome-85.04183133  div-gpt-ad-BT-D-O-300x250-1  300x250   \n",
       "4   Linux  Chrome-85.04183133  div-gpt-ad-BT-D-O-300x250-1  300x250   \n",
       "\n",
       "      bidder  ... sum_time_to_respond   median  min_bid  max_bid   avg_bid  \\\n",
       "0  onemobile  ...              6614.0      NaN  0.58520  0.58520  0.585200   \n",
       "1  rhythmone  ...              5171.0      NaN  0.33945  0.34875  0.344100   \n",
       "2  undertone  ...              1523.0      NaN  0.96000  0.96000  0.960000   \n",
       "3             ...                 NaN      NaN      NaN      NaN       NaN   \n",
       "4  rhythmone  ...              3570.0  0.34875  0.34410  0.34875  0.346425   \n",
       "\n",
       "   sum_2nd_highest_bid  sum_prebid_winning_bid  sum_winning_bid  sum_nobid  \\\n",
       "0               0.5852                  0.5852              NaN        NaN   \n",
       "1                  NaN                     NaN              NaN        NaN   \n",
       "2                  NaN                     NaN              NaN        NaN   \n",
       "3                  NaN                     NaN              NaN        NaN   \n",
       "4                  NaN                     NaN              NaN        NaN   \n",
       "\n",
       "   sum_timeout  \n",
       "0          NaN  \n",
       "1          NaN  \n",
       "2          NaN  \n",
       "3          NaN  \n",
       "4          NaN  \n",
       "\n",
       "[5 rows x 27 columns]"
      ]
     },
     "execution_count": 2,
     "metadata": {},
     "output_type": "execute_result"
    }
   ],
   "source": [
    "bidding_data = pd.read_csv(\"analysis_id(in).csv\", header = 0)\n",
    "bidding_data.head()"
   ]
  },
  {
   "cell_type": "markdown",
   "id": "4f3abecf",
   "metadata": {},
   "source": [
    "## Analyse Data"
   ]
  },
  {
   "cell_type": "code",
   "execution_count": 3,
   "id": "03be2696",
   "metadata": {},
   "outputs": [
    {
     "data": {
      "text/plain": [
       "['Unnamed: 0',\n",
       " 'date_hour',\n",
       " 'client',\n",
       " 'device_type',\n",
       " 'time_zone',\n",
       " 'os_name',\n",
       " 'browser_name',\n",
       " 'ad_unit',\n",
       " 'size',\n",
       " 'bidder',\n",
       " 'bid_range',\n",
       " 'media_type',\n",
       " 'request_count',\n",
       " 'response_count',\n",
       " 'prebid_win_count',\n",
       " 'win_count',\n",
       " 'sum_bid',\n",
       " 'sum_time_to_respond',\n",
       " 'median',\n",
       " 'min_bid',\n",
       " 'max_bid',\n",
       " 'avg_bid',\n",
       " 'sum_2nd_highest_bid',\n",
       " 'sum_prebid_winning_bid',\n",
       " 'sum_winning_bid',\n",
       " 'sum_nobid',\n",
       " 'sum_timeout']"
      ]
     },
     "execution_count": 3,
     "metadata": {},
     "output_type": "execute_result"
    }
   ],
   "source": [
    "bidding_data.columns.tolist() # All Columns"
   ]
  },
  {
   "cell_type": "code",
   "execution_count": 4,
   "id": "c7182ea7",
   "metadata": {},
   "outputs": [
    {
     "name": "stdout",
     "output_type": "stream",
     "text": [
      "Shape of data:  (5000, 27)\n"
     ]
    }
   ],
   "source": [
    "print('Shape of data: ', bidding_data.shape)"
   ]
  },
  {
   "cell_type": "code",
   "execution_count": 5,
   "id": "0e7100b9",
   "metadata": {},
   "outputs": [
    {
     "name": "stdout",
     "output_type": "stream",
     "text": [
      "<class 'pandas.core.frame.DataFrame'>\n",
      "RangeIndex: 5000 entries, 0 to 4999\n",
      "Data columns (total 27 columns):\n",
      " #   Column                  Non-Null Count  Dtype  \n",
      "---  ------                  --------------  -----  \n",
      " 0   Unnamed: 0              5000 non-null   int64  \n",
      " 1   date_hour               5000 non-null   object \n",
      " 2   client                  5000 non-null   object \n",
      " 3   device_type             5000 non-null   object \n",
      " 4   time_zone               5000 non-null   object \n",
      " 5   os_name                 5000 non-null   object \n",
      " 6   browser_name            5000 non-null   object \n",
      " 7   ad_unit                 5000 non-null   object \n",
      " 8   size                    5000 non-null   object \n",
      " 9   bidder                  5000 non-null   object \n",
      " 10  bid_range               5000 non-null   object \n",
      " 11  media_type              5000 non-null   object \n",
      " 12  request_count           5000 non-null   int64  \n",
      " 13  response_count          5000 non-null   int64  \n",
      " 14  prebid_win_count        1167 non-null   float64\n",
      " 15  win_count               186 non-null    float64\n",
      " 16  sum_bid                 3790 non-null   float64\n",
      " 17  sum_time_to_respond     3790 non-null   float64\n",
      " 18  median                  1760 non-null   float64\n",
      " 19  min_bid                 3790 non-null   float64\n",
      " 20  max_bid                 3790 non-null   float64\n",
      " 21  avg_bid                 3790 non-null   float64\n",
      " 22  sum_2nd_highest_bid     734 non-null    float64\n",
      " 23  sum_prebid_winning_bid  1167 non-null   float64\n",
      " 24  sum_winning_bid         186 non-null    float64\n",
      " 25  sum_nobid               0 non-null      float64\n",
      " 26  sum_timeout             0 non-null      float64\n",
      "dtypes: float64(13), int64(3), object(11)\n",
      "memory usage: 1.0+ MB\n"
     ]
    }
   ],
   "source": [
    "bidding_data.info()"
   ]
  },
  {
   "cell_type": "markdown",
   "id": "da612475",
   "metadata": {},
   "source": [
    "Checking only relevant columns for this question: \"client\", \"bidder\",\"request_count\",\"response_count\", \"prebid_win_count\", \"win_count\""
   ]
  },
  {
   "cell_type": "code",
   "execution_count": 6,
   "id": "de2dc0bd",
   "metadata": {},
   "outputs": [
    {
     "data": {
      "text/plain": [
       "client                 0\n",
       "bidder                 0\n",
       "request_count          0\n",
       "response_count         0\n",
       "prebid_win_count    3833\n",
       "win_count           4814\n",
       "dtype: int64"
      ]
     },
     "execution_count": 6,
     "metadata": {},
     "output_type": "execute_result"
    }
   ],
   "source": [
    "bidding_data[[\"client\", \"bidder\",\"request_count\",\"response_count\", \"prebid_win_count\", \"win_count\"]].isnull().sum()"
   ]
  },
  {
   "cell_type": "markdown",
   "id": "12e71ac7",
   "metadata": {},
   "source": [
    "Although, Bidder is empty -> It is not showing above. Maybe, because of whitespaces."
   ]
  },
  {
   "cell_type": "code",
   "execution_count": 7,
   "id": "a8efb099",
   "metadata": {},
   "outputs": [
    {
     "data": {
      "text/plain": [
       "bidder\n",
       "                1210\n",
       "ix               464\n",
       "onemobile        407\n",
       "medianet         384\n",
       "criteo           306\n",
       "pubmatic         298\n",
       "rhythmone        246\n",
       "33across         240\n",
       "triplelift       232\n",
       "appnexus         197\n",
       "openx            197\n",
       "rubicon          178\n",
       "emx_digital      169\n",
       "sharethrough     139\n",
       "pulsepoint       134\n",
       "sovrn            102\n",
       "undertone         49\n",
       "teads             48\n",
       "Name: count, dtype: int64"
      ]
     },
     "execution_count": 7,
     "metadata": {},
     "output_type": "execute_result"
    }
   ],
   "source": [
    "bidding_data['bidder'].value_counts()"
   ]
  },
  {
   "cell_type": "code",
   "execution_count": 8,
   "id": "d1ba67ee",
   "metadata": {},
   "outputs": [],
   "source": [
    "# Although bidder is empty, But it contains whitespaces\n",
    "bidding_data['bidder'] = bidding_data['bidder'].apply(lambda x: x.strip())"
   ]
  },
  {
   "cell_type": "code",
   "execution_count": 9,
   "id": "642ecd45",
   "metadata": {},
   "outputs": [
    {
     "data": {
      "text/plain": [
       "client                 0\n",
       "bidder                 0\n",
       "request_count          0\n",
       "response_count         0\n",
       "prebid_win_count    3833\n",
       "win_count           4814\n",
       "dtype: int64"
      ]
     },
     "execution_count": 9,
     "metadata": {},
     "output_type": "execute_result"
    }
   ],
   "source": [
    "bidding_data[[\"client\", \"bidder\",\"request_count\",\"response_count\", \"prebid_win_count\", \"win_count\"]].isnull().sum()"
   ]
  },
  {
   "cell_type": "code",
   "execution_count": 10,
   "id": "6a896c5f",
   "metadata": {},
   "outputs": [
    {
     "name": "stdout",
     "output_type": "stream",
     "text": [
      "Shape of the data after removing empty bidders:  (3790, 27)\n"
     ]
    }
   ],
   "source": [
    "# Removing empty bidder rows\n",
    "bidding_data = bidding_data[bidding_data['bidder'] != '']\n",
    "print('Shape of the data after removing empty bidders: ',bidding_data.shape)"
   ]
  },
  {
   "cell_type": "markdown",
   "id": "0ad4a83b",
   "metadata": {},
   "source": [
    "## Solution"
   ]
  },
  {
   "cell_type": "markdown",
   "id": "7b5bfe98",
   "metadata": {},
   "source": [
    "I am taking sum of response_count as total_bid, as total_bids = Bidders actually replied with bids"
   ]
  },
  {
   "cell_type": "code",
   "execution_count": 11,
   "id": "bcaa4bf1",
   "metadata": {},
   "outputs": [
    {
     "data": {
      "text/html": [
       "<div>\n",
       "<style scoped>\n",
       "    .dataframe tbody tr th:only-of-type {\n",
       "        vertical-align: middle;\n",
       "    }\n",
       "\n",
       "    .dataframe tbody tr th {\n",
       "        vertical-align: top;\n",
       "    }\n",
       "\n",
       "    .dataframe thead th {\n",
       "        text-align: right;\n",
       "    }\n",
       "</style>\n",
       "<table border=\"1\" class=\"dataframe\">\n",
       "  <thead>\n",
       "    <tr style=\"text-align: right;\">\n",
       "      <th></th>\n",
       "      <th>bidder</th>\n",
       "      <th>win_count</th>\n",
       "      <th>total_bid</th>\n",
       "      <th>win_rate</th>\n",
       "    </tr>\n",
       "  </thead>\n",
       "  <tbody>\n",
       "    <tr>\n",
       "      <th>0</th>\n",
       "      <td>undertone</td>\n",
       "      <td>16.0</td>\n",
       "      <td>104</td>\n",
       "      <td>15.38</td>\n",
       "    </tr>\n",
       "    <tr>\n",
       "      <th>1</th>\n",
       "      <td>emx_digital</td>\n",
       "      <td>20.0</td>\n",
       "      <td>393</td>\n",
       "      <td>5.09</td>\n",
       "    </tr>\n",
       "    <tr>\n",
       "      <th>2</th>\n",
       "      <td>sharethrough</td>\n",
       "      <td>10.0</td>\n",
       "      <td>332</td>\n",
       "      <td>3.01</td>\n",
       "    </tr>\n",
       "    <tr>\n",
       "      <th>3</th>\n",
       "      <td>rhythmone</td>\n",
       "      <td>18.0</td>\n",
       "      <td>655</td>\n",
       "      <td>2.75</td>\n",
       "    </tr>\n",
       "    <tr>\n",
       "      <th>4</th>\n",
       "      <td>pulsepoint</td>\n",
       "      <td>5.0</td>\n",
       "      <td>191</td>\n",
       "      <td>2.62</td>\n",
       "    </tr>\n",
       "    <tr>\n",
       "      <th>5</th>\n",
       "      <td>pubmatic</td>\n",
       "      <td>57.0</td>\n",
       "      <td>2335</td>\n",
       "      <td>2.44</td>\n",
       "    </tr>\n",
       "    <tr>\n",
       "      <th>6</th>\n",
       "      <td>teads</td>\n",
       "      <td>16.0</td>\n",
       "      <td>700</td>\n",
       "      <td>2.29</td>\n",
       "    </tr>\n",
       "    <tr>\n",
       "      <th>7</th>\n",
       "      <td>33across</td>\n",
       "      <td>19.0</td>\n",
       "      <td>886</td>\n",
       "      <td>2.14</td>\n",
       "    </tr>\n",
       "    <tr>\n",
       "      <th>8</th>\n",
       "      <td>onemobile</td>\n",
       "      <td>35.0</td>\n",
       "      <td>2726</td>\n",
       "      <td>1.28</td>\n",
       "    </tr>\n",
       "    <tr>\n",
       "      <th>9</th>\n",
       "      <td>appnexus</td>\n",
       "      <td>10.0</td>\n",
       "      <td>830</td>\n",
       "      <td>1.20</td>\n",
       "    </tr>\n",
       "    <tr>\n",
       "      <th>10</th>\n",
       "      <td>medianet</td>\n",
       "      <td>20.0</td>\n",
       "      <td>2556</td>\n",
       "      <td>0.78</td>\n",
       "    </tr>\n",
       "    <tr>\n",
       "      <th>11</th>\n",
       "      <td>triplelift</td>\n",
       "      <td>10.0</td>\n",
       "      <td>1479</td>\n",
       "      <td>0.68</td>\n",
       "    </tr>\n",
       "    <tr>\n",
       "      <th>12</th>\n",
       "      <td>criteo</td>\n",
       "      <td>21.0</td>\n",
       "      <td>3181</td>\n",
       "      <td>0.66</td>\n",
       "    </tr>\n",
       "    <tr>\n",
       "      <th>13</th>\n",
       "      <td>openx</td>\n",
       "      <td>7.0</td>\n",
       "      <td>1165</td>\n",
       "      <td>0.60</td>\n",
       "    </tr>\n",
       "    <tr>\n",
       "      <th>14</th>\n",
       "      <td>ix</td>\n",
       "      <td>13.0</td>\n",
       "      <td>3051</td>\n",
       "      <td>0.43</td>\n",
       "    </tr>\n",
       "    <tr>\n",
       "      <th>15</th>\n",
       "      <td>sovrn</td>\n",
       "      <td>1.0</td>\n",
       "      <td>358</td>\n",
       "      <td>0.28</td>\n",
       "    </tr>\n",
       "    <tr>\n",
       "      <th>16</th>\n",
       "      <td>rubicon</td>\n",
       "      <td>0.0</td>\n",
       "      <td>582</td>\n",
       "      <td>0.00</td>\n",
       "    </tr>\n",
       "  </tbody>\n",
       "</table>\n",
       "</div>"
      ],
      "text/plain": [
       "          bidder  win_count  total_bid  win_rate\n",
       "0      undertone       16.0        104     15.38\n",
       "1    emx_digital       20.0        393      5.09\n",
       "2   sharethrough       10.0        332      3.01\n",
       "3      rhythmone       18.0        655      2.75\n",
       "4     pulsepoint        5.0        191      2.62\n",
       "5       pubmatic       57.0       2335      2.44\n",
       "6          teads       16.0        700      2.29\n",
       "7       33across       19.0        886      2.14\n",
       "8      onemobile       35.0       2726      1.28\n",
       "9       appnexus       10.0        830      1.20\n",
       "10      medianet       20.0       2556      0.78\n",
       "11    triplelift       10.0       1479      0.68\n",
       "12        criteo       21.0       3181      0.66\n",
       "13         openx        7.0       1165      0.60\n",
       "14            ix       13.0       3051      0.43\n",
       "15         sovrn        1.0        358      0.28\n",
       "16       rubicon        0.0        582      0.00"
      ]
     },
     "execution_count": 11,
     "metadata": {},
     "output_type": "execute_result"
    }
   ],
   "source": [
    "#Top Bidders with most wins (sorted in descending order by win rate)\n",
    "bidding_win_df = bidding_data.groupby( by = 'bidder').agg(win_count = ('win_count', 'sum'), total_bid = ('response_count','sum'))\n",
    "bidding_win_df['win_rate'] = round(100 * bidding_win_df['win_count'] / bidding_win_df['total_bid'],2)\n",
    "bidding_win_df = bidding_win_df.sort_values(by = 'win_rate', ascending=False).reset_index()\n",
    "bidding_win_df"
   ]
  },
  {
   "cell_type": "code",
   "execution_count": 12,
   "id": "4a5bdf61",
   "metadata": {},
   "outputs": [],
   "source": [
    "#Top Bidders with most prebid wins (sorted in descending order by win rate)\n",
    "pre_bidding_win_df = bidding_data.groupby( by = 'bidder').agg(prebid_win_count = ('prebid_win_count', 'sum'), total_bid = ('response_count','sum'))\n",
    "pre_bidding_win_df['win_rate'] = round(100 * pre_bidding_win_df['prebid_win_count'] / pre_bidding_win_df['total_bid'],2)\n",
    "pre_bidding_win_df = pre_bidding_win_df.sort_values(by = 'win_rate', ascending=False).reset_index()"
   ]
  },
  {
   "cell_type": "code",
   "execution_count": 13,
   "id": "7a45062a",
   "metadata": {},
   "outputs": [
    {
     "data": {
      "text/html": [
       "<div>\n",
       "<style scoped>\n",
       "    .dataframe tbody tr th:only-of-type {\n",
       "        vertical-align: middle;\n",
       "    }\n",
       "\n",
       "    .dataframe tbody tr th {\n",
       "        vertical-align: top;\n",
       "    }\n",
       "\n",
       "    .dataframe thead th {\n",
       "        text-align: right;\n",
       "    }\n",
       "</style>\n",
       "<table border=\"1\" class=\"dataframe\">\n",
       "  <thead>\n",
       "    <tr style=\"text-align: right;\">\n",
       "      <th></th>\n",
       "      <th>bidder</th>\n",
       "      <th>win_count</th>\n",
       "      <th>total_bid</th>\n",
       "      <th>win_rate</th>\n",
       "    </tr>\n",
       "  </thead>\n",
       "  <tbody>\n",
       "    <tr>\n",
       "      <th>0</th>\n",
       "      <td>undertone</td>\n",
       "      <td>16.0</td>\n",
       "      <td>104</td>\n",
       "      <td>15.38</td>\n",
       "    </tr>\n",
       "    <tr>\n",
       "      <th>1</th>\n",
       "      <td>emx_digital</td>\n",
       "      <td>20.0</td>\n",
       "      <td>393</td>\n",
       "      <td>5.09</td>\n",
       "    </tr>\n",
       "  </tbody>\n",
       "</table>\n",
       "</div>"
      ],
      "text/plain": [
       "        bidder  win_count  total_bid  win_rate\n",
       "0    undertone       16.0        104     15.38\n",
       "1  emx_digital       20.0        393      5.09"
      ]
     },
     "execution_count": 13,
     "metadata": {},
     "output_type": "execute_result"
    }
   ],
   "source": [
    "bidding_win_df.head(2) #Top 2 bidders with most bid win rate"
   ]
  },
  {
   "cell_type": "code",
   "execution_count": 14,
   "id": "e6589609",
   "metadata": {},
   "outputs": [
    {
     "data": {
      "text/html": [
       "<div>\n",
       "<style scoped>\n",
       "    .dataframe tbody tr th:only-of-type {\n",
       "        vertical-align: middle;\n",
       "    }\n",
       "\n",
       "    .dataframe tbody tr th {\n",
       "        vertical-align: top;\n",
       "    }\n",
       "\n",
       "    .dataframe thead th {\n",
       "        text-align: right;\n",
       "    }\n",
       "</style>\n",
       "<table border=\"1\" class=\"dataframe\">\n",
       "  <thead>\n",
       "    <tr style=\"text-align: right;\">\n",
       "      <th></th>\n",
       "      <th>bidder</th>\n",
       "      <th>prebid_win_count</th>\n",
       "      <th>total_bid</th>\n",
       "      <th>win_rate</th>\n",
       "    </tr>\n",
       "  </thead>\n",
       "  <tbody>\n",
       "    <tr>\n",
       "      <th>0</th>\n",
       "      <td>undertone</td>\n",
       "      <td>52.0</td>\n",
       "      <td>104</td>\n",
       "      <td>50.00</td>\n",
       "    </tr>\n",
       "    <tr>\n",
       "      <th>1</th>\n",
       "      <td>teads</td>\n",
       "      <td>323.0</td>\n",
       "      <td>700</td>\n",
       "      <td>46.14</td>\n",
       "    </tr>\n",
       "  </tbody>\n",
       "</table>\n",
       "</div>"
      ],
      "text/plain": [
       "      bidder  prebid_win_count  total_bid  win_rate\n",
       "0  undertone              52.0        104     50.00\n",
       "1      teads             323.0        700     46.14"
      ]
     },
     "execution_count": 14,
     "metadata": {},
     "output_type": "execute_result"
    }
   ],
   "source": [
    "pre_bidding_win_df.head(2)  #Top 2 bidders with most pre-bid win rate"
   ]
  },
  {
   "cell_type": "code",
   "execution_count": 15,
   "id": "d849937b",
   "metadata": {},
   "outputs": [
    {
     "name": "stdout",
     "output_type": "stream",
     "text": [
      "Odd Ratio - bid_amount: 2.23\n",
      "Odd Ratio - time_to_bid: 0.67\n",
      "Odd Ratio - ad_unit_A: (reference category: ad_unit_B) 1.35\n"
     ]
    }
   ],
   "source": [
    "# For Theory Question\n",
    "print('Odd Ratio - bid_amount:', round(np.exp(0.8),2))\n",
    "print('Odd Ratio - time_to_bid:', round(np.exp(-0.4),2))\n",
    "print('Odd Ratio - ad_unit_A: (reference category: ad_unit_B)', round(np.exp(0.3),2))"
   ]
  }
 ],
 "metadata": {
  "kernelspec": {
   "display_name": ".venv",
   "language": "python",
   "name": "python3"
  },
  "language_info": {
   "codemirror_mode": {
    "name": "ipython",
    "version": 3
   },
   "file_extension": ".py",
   "mimetype": "text/x-python",
   "name": "python",
   "nbconvert_exporter": "python",
   "pygments_lexer": "ipython3",
   "version": "3.10.4"
  }
 },
 "nbformat": 4,
 "nbformat_minor": 5
}
